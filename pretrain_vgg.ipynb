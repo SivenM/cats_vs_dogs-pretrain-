{
 "cells": [
  {
   "cell_type": "code",
   "execution_count": 1,
   "metadata": {},
   "outputs": [
    {
     "data": {
      "text/plain": [
       "'/device:GPU:0'"
      ]
     },
     "execution_count": 1,
     "metadata": {},
     "output_type": "execute_result"
    }
   ],
   "source": [
    "import tensorflow as tf\n",
    "tf.test.gpu_device_name()"
   ]
  },
  {
   "cell_type": "code",
   "execution_count": 2,
   "metadata": {},
   "outputs": [],
   "source": [
    "base_dir = 'cats_dogs_small'\n",
    "train_dir = 'cats_dogs_small/train'\n",
    "test_dir = 'cats_dogs_small/test'\n",
    "val_dir = 'cats_dogs_small/validation'"
   ]
  },
  {
   "cell_type": "code",
   "execution_count": 3,
   "metadata": {},
   "outputs": [
    {
     "name": "stdout",
     "output_type": "stream",
     "text": [
      "Model: \"vgg16\"\n",
      "_________________________________________________________________\n",
      "Layer (type)                 Output Shape              Param #   \n",
      "=================================================================\n",
      "input_1 (InputLayer)         [(None, 150, 150, 3)]     0         \n",
      "_________________________________________________________________\n",
      "block1_conv1 (Conv2D)        (None, 150, 150, 64)      1792      \n",
      "_________________________________________________________________\n",
      "block1_conv2 (Conv2D)        (None, 150, 150, 64)      36928     \n",
      "_________________________________________________________________\n",
      "block1_pool (MaxPooling2D)   (None, 75, 75, 64)        0         \n",
      "_________________________________________________________________\n",
      "block2_conv1 (Conv2D)        (None, 75, 75, 128)       73856     \n",
      "_________________________________________________________________\n",
      "block2_conv2 (Conv2D)        (None, 75, 75, 128)       147584    \n",
      "_________________________________________________________________\n",
      "block2_pool (MaxPooling2D)   (None, 37, 37, 128)       0         \n",
      "_________________________________________________________________\n",
      "block3_conv1 (Conv2D)        (None, 37, 37, 256)       295168    \n",
      "_________________________________________________________________\n",
      "block3_conv2 (Conv2D)        (None, 37, 37, 256)       590080    \n",
      "_________________________________________________________________\n",
      "block3_conv3 (Conv2D)        (None, 37, 37, 256)       590080    \n",
      "_________________________________________________________________\n",
      "block3_pool (MaxPooling2D)   (None, 18, 18, 256)       0         \n",
      "_________________________________________________________________\n",
      "block4_conv1 (Conv2D)        (None, 18, 18, 512)       1180160   \n",
      "_________________________________________________________________\n",
      "block4_conv2 (Conv2D)        (None, 18, 18, 512)       2359808   \n",
      "_________________________________________________________________\n",
      "block4_conv3 (Conv2D)        (None, 18, 18, 512)       2359808   \n",
      "_________________________________________________________________\n",
      "block4_pool (MaxPooling2D)   (None, 9, 9, 512)         0         \n",
      "_________________________________________________________________\n",
      "block5_conv1 (Conv2D)        (None, 9, 9, 512)         2359808   \n",
      "_________________________________________________________________\n",
      "block5_conv2 (Conv2D)        (None, 9, 9, 512)         2359808   \n",
      "_________________________________________________________________\n",
      "block5_conv3 (Conv2D)        (None, 9, 9, 512)         2359808   \n",
      "_________________________________________________________________\n",
      "block5_pool (MaxPooling2D)   (None, 4, 4, 512)         0         \n",
      "=================================================================\n",
      "Total params: 14,714,688\n",
      "Trainable params: 14,714,688\n",
      "Non-trainable params: 0\n",
      "_________________________________________________________________\n"
     ]
    }
   ],
   "source": [
    "from tensorflow.keras.applications import VGG16\n",
    "\n",
    "conv_base = VGG16(weights='imagenet',\n",
    "                 include_top=False,\n",
    "                 input_shape =(150,150,3))\n",
    "conv_base.summary()"
   ]
  },
  {
   "cell_type": "code",
   "execution_count": 4,
   "metadata": {},
   "outputs": [
    {
     "name": "stdout",
     "output_type": "stream",
     "text": [
      "Model: \"sequential\"\n",
      "_________________________________________________________________\n",
      "Layer (type)                 Output Shape              Param #   \n",
      "=================================================================\n",
      "vgg16 (Model)                (None, 4, 4, 512)         14714688  \n",
      "_________________________________________________________________\n",
      "flatten (Flatten)            (None, 8192)              0         \n",
      "_________________________________________________________________\n",
      "dropout (Dropout)            (None, 8192)              0         \n",
      "_________________________________________________________________\n",
      "dense (Dense)                (None, 256)               2097408   \n",
      "_________________________________________________________________\n",
      "dense_1 (Dense)              (None, 1)                 257       \n",
      "=================================================================\n",
      "Total params: 16,812,353\n",
      "Trainable params: 16,812,353\n",
      "Non-trainable params: 0\n",
      "_________________________________________________________________\n"
     ]
    }
   ],
   "source": [
    "from tensorflow.keras import models\n",
    "from tensorflow.keras import layers\n",
    "\n",
    "model = models.Sequential()\n",
    "model.add(conv_base)\n",
    "model.add(layers.Flatten())\n",
    "model.add(layers.Dropout(0.5))\n",
    "model.add(layers.Dense(256, activation='relu'))\n",
    "model.add(layers.Dense(1, activation='sigmoid'))\n",
    "\n",
    "model.summary()"
   ]
  },
  {
   "cell_type": "code",
   "execution_count": 5,
   "metadata": {},
   "outputs": [
    {
     "name": "stdout",
     "output_type": "stream",
     "text": [
      "Количество тренировочных весов перед замороской: 30\n"
     ]
    }
   ],
   "source": [
    "print('Количество тренировочных весов перед замороской:', len(model.trainable_weights))"
   ]
  },
  {
   "cell_type": "code",
   "execution_count": 6,
   "metadata": {},
   "outputs": [],
   "source": [
    "conv_base.trainable = False"
   ]
  },
  {
   "cell_type": "code",
   "execution_count": 7,
   "metadata": {},
   "outputs": [
    {
     "name": "stdout",
     "output_type": "stream",
     "text": [
      "Количество тренировочных весов после замороской: 4\n"
     ]
    }
   ],
   "source": [
    "print('Количество тренировочных весов после замороской:', len(model.trainable_weights))"
   ]
  },
  {
   "cell_type": "code",
   "execution_count": 10,
   "metadata": {},
   "outputs": [
    {
     "name": "stdout",
     "output_type": "stream",
     "text": [
      "Found 2000 images belonging to 2 classes.\n",
      "Found 1000 images belonging to 2 classes.\n",
      "Epoch 1/30\n",
      "100/100 [==============================] - 122s 1s/step - loss: 0.7067 - acc: 0.5585 - val_loss: 0.5743 - val_acc: 0.7400\n",
      "Epoch 2/30\n",
      "100/100 [==============================] - 94s 944ms/step - loss: 0.5890 - acc: 0.6750 - val_loss: 0.5067 - val_acc: 0.7740\n",
      "Epoch 3/30\n",
      "100/100 [==============================] - 95s 946ms/step - loss: 0.5342 - acc: 0.7280 - val_loss: 0.4759 - val_acc: 0.7750\n",
      "Epoch 4/30\n",
      "100/100 [==============================] - 95s 947ms/step - loss: 0.4886 - acc: 0.7705 - val_loss: 0.4539 - val_acc: 0.7900\n",
      "Epoch 5/30\n",
      "100/100 [==============================] - 95s 946ms/step - loss: 0.4634 - acc: 0.7725 - val_loss: 0.4240 - val_acc: 0.8110\n",
      "Epoch 6/30\n",
      "100/100 [==============================] - 95s 947ms/step - loss: 0.4430 - acc: 0.7905 - val_loss: 0.4136 - val_acc: 0.8250\n",
      "Epoch 7/30\n",
      "100/100 [==============================] - 95s 947ms/step - loss: 0.4386 - acc: 0.8060 - val_loss: 0.3916 - val_acc: 0.8260\n",
      "Epoch 8/30\n",
      "100/100 [==============================] - 95s 947ms/step - loss: 0.4248 - acc: 0.8025 - val_loss: 0.3934 - val_acc: 0.8250\n",
      "Epoch 9/30\n",
      "100/100 [==============================] - 95s 946ms/step - loss: 0.4156 - acc: 0.8080 - val_loss: 0.3917 - val_acc: 0.8360\n",
      "Epoch 10/30\n",
      "100/100 [==============================] - 95s 946ms/step - loss: 0.4195 - acc: 0.8090 - val_loss: 0.3695 - val_acc: 0.8350\n",
      "Epoch 11/30\n",
      "100/100 [==============================] - 95s 947ms/step - loss: 0.4011 - acc: 0.8095 - val_loss: 0.3711 - val_acc: 0.8350\n",
      "Epoch 12/30\n",
      "100/100 [==============================] - 95s 949ms/step - loss: 0.3922 - acc: 0.8170 - val_loss: 0.3635 - val_acc: 0.8360\n",
      "Epoch 13/30\n",
      "100/100 [==============================] - 95s 947ms/step - loss: 0.3972 - acc: 0.8125 - val_loss: 0.3573 - val_acc: 0.8360\n",
      "Epoch 14/30\n",
      "100/100 [==============================] - 95s 947ms/step - loss: 0.3719 - acc: 0.8385 - val_loss: 0.3614 - val_acc: 0.8330\n",
      "Epoch 15/30\n",
      "100/100 [==============================] - 95s 951ms/step - loss: 0.3743 - acc: 0.8275 - val_loss: 0.3349 - val_acc: 0.8480\n",
      "Epoch 16/30\n",
      "100/100 [==============================] - 95s 948ms/step - loss: 0.3787 - acc: 0.8320 - val_loss: 0.3651 - val_acc: 0.8280\n",
      "Epoch 17/30\n",
      "100/100 [==============================] - 95s 947ms/step - loss: 0.3763 - acc: 0.8300 - val_loss: 0.3502 - val_acc: 0.8430\n",
      "Epoch 18/30\n",
      "100/100 [==============================] - 95s 946ms/step - loss: 0.3579 - acc: 0.8390 - val_loss: 0.3551 - val_acc: 0.8420\n",
      "Epoch 19/30\n",
      "100/100 [==============================] - 95s 947ms/step - loss: 0.3572 - acc: 0.8355 - val_loss: 0.3475 - val_acc: 0.8430\n",
      "Epoch 20/30\n",
      "100/100 [==============================] - 95s 947ms/step - loss: 0.3650 - acc: 0.8360 - val_loss: 0.3472 - val_acc: 0.8490\n",
      "Epoch 21/30\n",
      "100/100 [==============================] - 95s 948ms/step - loss: 0.3677 - acc: 0.8260 - val_loss: 0.3277 - val_acc: 0.8590\n",
      "Epoch 22/30\n",
      "100/100 [==============================] - 94s 943ms/step - loss: 0.3749 - acc: 0.8205 - val_loss: 0.3417 - val_acc: 0.8490\n",
      "Epoch 23/30\n",
      "100/100 [==============================] - 94s 943ms/step - loss: 0.3494 - acc: 0.8345 - val_loss: 0.3270 - val_acc: 0.8640\n",
      "Epoch 24/30\n",
      "100/100 [==============================] - 94s 944ms/step - loss: 0.3527 - acc: 0.8410 - val_loss: 0.3378 - val_acc: 0.8550\n",
      "Epoch 25/30\n",
      "100/100 [==============================] - 95s 950ms/step - loss: 0.3525 - acc: 0.8390 - val_loss: 0.3316 - val_acc: 0.8540\n",
      "Epoch 26/30\n",
      "100/100 [==============================] - 95s 947ms/step - loss: 0.3454 - acc: 0.8510 - val_loss: 0.3281 - val_acc: 0.8540\n",
      "Epoch 27/30\n",
      "100/100 [==============================] - 95s 947ms/step - loss: 0.3418 - acc: 0.8480 - val_loss: 0.3263 - val_acc: 0.8600\n",
      "Epoch 28/30\n",
      "100/100 [==============================] - 95s 948ms/step - loss: 0.3415 - acc: 0.8425 - val_loss: 0.3433 - val_acc: 0.8480\n",
      "Epoch 29/30\n",
      "100/100 [==============================] - 95s 946ms/step - loss: 0.3393 - acc: 0.8480 - val_loss: 0.3798 - val_acc: 0.8220\n",
      "Epoch 30/30\n",
      "100/100 [==============================] - 95s 947ms/step - loss: 0.3394 - acc: 0.8515 - val_loss: 0.3234 - val_acc: 0.8500\n"
     ]
    },
    {
     "ename": "NameError",
     "evalue": "name 'cats_and_dogs_v1' is not defined",
     "output_type": "error",
     "traceback": [
      "\u001b[1;31m---------------------------------------------------------------------------\u001b[0m",
      "\u001b[1;31mNameError\u001b[0m                                 Traceback (most recent call last)",
      "\u001b[1;32m<ipython-input-10-9af63b5ee10c>\u001b[0m in \u001b[0;36m<module>\u001b[1;34m\u001b[0m\n\u001b[0;32m     35\u001b[0m     validation_steps=50)\n\u001b[0;32m     36\u001b[0m \u001b[1;33m\u001b[0m\u001b[0m\n\u001b[1;32m---> 37\u001b[1;33m \u001b[0mmodel\u001b[0m\u001b[1;33m.\u001b[0m\u001b[0msave\u001b[0m\u001b[1;33m(\u001b[0m\u001b[0mcats_and_dogs_v1\u001b[0m\u001b[1;33m.\u001b[0m\u001b[0mh5\u001b[0m\u001b[1;33m)\u001b[0m\u001b[1;33m\u001b[0m\u001b[1;33m\u001b[0m\u001b[0m\n\u001b[0m",
      "\u001b[1;31mNameError\u001b[0m: name 'cats_and_dogs_v1' is not defined"
     ]
    }
   ],
   "source": [
    "from tensorflow.keras.preprocessing.image import ImageDataGenerator\n",
    "from tensorflow.keras import optimizers\n",
    "\n",
    "train_datagen = ImageDataGenerator(\n",
    "    rescale=1./255,\n",
    "    rotation_range=40,\n",
    "    width_shift_range=0.2,\n",
    "    height_shift_range=0.2,\n",
    "    shear_range=0.2,\n",
    "    zoom_range=0.2,\n",
    "    horizontal_flip=True,\n",
    "    fill_mode='nearest')\n",
    "test_datagen = ImageDataGenerator(rescale=1./255)\n",
    "\n",
    "train_generator = train_datagen.flow_from_directory(\n",
    "    train_dir,\n",
    "    target_size=(150,150),\n",
    "    batch_size=20,\n",
    "    class_mode='binary')\n",
    "val_generator = train_datagen.flow_from_directory(\n",
    "    val_dir,\n",
    "    target_size=(150,150),\n",
    "    batch_size=20,\n",
    "    class_mode='binary')\n",
    "\n",
    "model.compile(loss='binary_crossentropy',\n",
    "             optimizer=optimizers.Adam(lr=2e-5),\n",
    "             metrics=['acc'])\n",
    "\n",
    "history = model.fit_generator(\n",
    "    train_generator,\n",
    "    steps_per_epoch=100,\n",
    "    epochs=30,\n",
    "    validation_data=val_generator,\n",
    "    validation_steps=50)\n",
    "\n",
    "model.save(cats_and_dogs_v1.h5)"
   ]
  },
  {
   "cell_type": "code",
   "execution_count": null,
   "metadata": {},
   "outputs": [],
   "source": [
    "import matplotlib.pyplot as plt\n",
    "\n",
    "acc = history.history['acc']\n",
    "val_acc = history.history['val_acc']\n",
    "loss = history.history['loss']\n",
    "val_loss = history.history['val_loss']\n",
    "\n",
    "epochs = range(1, len(acc)+1)\n",
    "\n",
    "plt.figure()\n",
    "plt.plot(epochs, acc, 'bo', label='Точность на обучении')\n",
    "plt.plot(epochs, val_acc, 'b', label='Точность на проверке')\n",
    "plt.title('Обучающая и проверочная точность')\n",
    "plt.legend()\n",
    "plt.show()"
   ]
  }
 ],
 "metadata": {
  "kernelspec": {
   "display_name": "Python 3.7 (tensorflow)",
   "language": "python",
   "name": "tensorflow"
  },
  "language_info": {
   "codemirror_mode": {
    "name": "ipython",
    "version": 3
   },
   "file_extension": ".py",
   "mimetype": "text/x-python",
   "name": "python",
   "nbconvert_exporter": "python",
   "pygments_lexer": "ipython3",
   "version": "3.7.6"
  }
 },
 "nbformat": 4,
 "nbformat_minor": 4
}
